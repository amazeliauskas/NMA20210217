{
 "cells": [
  {
   "cell_type": "markdown",
   "metadata": {},
   "source": [
    "Sveiki! \n",
    "\n",
    "Šiandien pasimokysime modeliavimo pagrindų su python jupyter notebook aplinkoje.\n",
    "\n",
    "Kiekviename langelyje galime užrašyti ir įvyktdyti įvairias python komandas.\n",
    "\n",
    "    shift+enter = run cell and jump to the next (creating a new cell if there is no other new one)\n",
    "    ctrl+enter  = run cell-in place\n",
    "    alt+enter   = run cell and insert a new one below\n",
    "\n",
    "# Pirmas skyrius\n",
    "## Paprastos python komandos\n",
    "\n",
    "Pradėkime su paprasta spausdinimo funkcija."
   ]
  },
  {
   "cell_type": "code",
   "execution_count": 2,
   "metadata": {},
   "outputs": [
    {
     "name": "stdout",
     "output_type": "stream",
     "text": [
      "Sveikas pasaulį!\n"
     ]
    }
   ],
   "source": [
    "print(\"Sveikas pasaulį!\")"
   ]
  },
  {
   "cell_type": "markdown",
   "metadata": {},
   "source": [
    "Tekstą išskiriame kabutėmis. Galima naudoti viengubas '' ir dvigubas \"\" kabutes. Be kabučių simboliai yra interpretuojami kaip kintamųjų padavinimas."
   ]
  },
  {
   "cell_type": "code",
   "execution_count": 4,
   "metadata": {},
   "outputs": [
    {
     "name": "stdout",
     "output_type": "stream",
     "text": [
      "Šiandien yra vasario 17 d.\n",
      "Dabartiniai metai nera 2022\n"
     ]
    }
   ],
   "source": [
    "data = \"vasario 17 d.\"\n",
    "print(\"Šiandien yra\", data)\n",
    "print(\"Dabartiniai metai nera\",2022)"
   ]
  },
  {
   "cell_type": "markdown",
   "metadata": {},
   "source": [
    " Su Python galima atlikti įvairius matematinius veiksmus"
   ]
  },
  {
   "cell_type": "code",
   "execution_count": 5,
   "metadata": {},
   "outputs": [
    {
     "data": {
      "text/plain": [
       "4"
      ]
     },
     "execution_count": 5,
     "metadata": {},
     "output_type": "execute_result"
    }
   ],
   "source": [
    "2+2"
   ]
  },
  {
   "cell_type": "code",
   "execution_count": 6,
   "metadata": {},
   "outputs": [
    {
     "data": {
      "text/plain": [
       "10"
      ]
     },
     "execution_count": 6,
     "metadata": {},
     "output_type": "execute_result"
    }
   ],
   "source": [
    "2*5"
   ]
  },
  {
   "cell_type": "code",
   "execution_count": 7,
   "metadata": {},
   "outputs": [
    {
     "data": {
      "text/plain": [
       "2.5"
      ]
     },
     "execution_count": 7,
     "metadata": {},
     "output_type": "execute_result"
    }
   ],
   "source": [
    "5/2"
   ]
  },
  {
   "cell_type": "markdown",
   "metadata": {},
   "source": [
    "Kelimas laipsniu, pavyzdžiui, $3^3$ yra rašomas taip"
   ]
  },
  {
   "cell_type": "code",
   "execution_count": 11,
   "metadata": {},
   "outputs": [
    {
     "data": {
      "text/plain": [
       "2.9543127065508336e+21"
      ]
     },
     "execution_count": 11,
     "metadata": {},
     "output_type": "execute_result"
    }
   ],
   "source": [
    "3.0**45"
   ]
  },
  {
   "cell_type": "markdown",
   "metadata": {},
   "source": [
    "Didelius skaičius, pavyzdžiui, $6,3\\cdot 10^{23}$ taip"
   ]
  },
  {
   "cell_type": "code",
   "execution_count": 12,
   "metadata": {},
   "outputs": [
    {
     "data": {
      "text/plain": [
       "6.3e+23"
      ]
     },
     "execution_count": 12,
     "metadata": {},
     "output_type": "execute_result"
    }
   ],
   "source": [
    "6.3e23"
   ]
  },
  {
   "cell_type": "markdown",
   "metadata": {},
   "source": [
    "Sudėtingesnes funkcijas galime gauti, jei įkelsime **numpy** biblioteką."
   ]
  },
  {
   "cell_type": "code",
   "execution_count": null,
   "metadata": {},
   "outputs": [],
   "source": [
    "import numpy as np"
   ]
  },
  {
   "cell_type": "code",
   "execution_count": 14,
   "metadata": {},
   "outputs": [
    {
     "name": "stdout",
     "output_type": "stream",
     "text": [
      "1.0 2.718281828459045 1.0 8.0 5\n"
     ]
    }
   ],
   "source": [
    "print(np.sin(np.pi/2), np.exp(1.0), np.log10(10), np.sqrt(64), np.abs(-5))"
   ]
  },
  {
   "cell_type": "markdown",
   "metadata": {},
   "source": [
    "### Klausimas\n",
    "Kiek sekundžių trunka mikrometai?"
   ]
  },
  {
   "cell_type": "code",
   "execution_count": 15,
   "metadata": {},
   "outputs": [
    {
     "data": {
      "text/plain": [
       "31.536"
      ]
     },
     "execution_count": 15,
     "metadata": {},
     "output_type": "execute_result"
    }
   ],
   "source": [
    "365*24*60*60/1e6"
   ]
  },
  {
   "cell_type": "markdown",
   "metadata": {},
   "source": [
    "# Antras skyrius\n",
    "## numpy array\n",
    "Dažnai tenka manipuliuoti ne pavienius skaičius, bet duomenų masyvus: vektorius, matricas. Tam patogu naudoti nupmy array duomenų tipą."
   ]
  },
  {
   "cell_type": "code",
   "execution_count": 16,
   "metadata": {},
   "outputs": [
    {
     "name": "stdout",
     "output_type": "stream",
     "text": [
      "[0.  0.1 0.2 0.3 0.4 0.5 0.6 0.7 0.8 0.9 1. ] (11,) 11\n"
     ]
    }
   ],
   "source": [
    "a=np.array([0.0, 0.1, 0.2,  0.3, 0.4, 0.5, 0.6, 0.7, 0.8, 0.9, 1.0])\n",
    "print(a, a.shape, len(a))"
   ]
  },
  {
   "cell_type": "markdown",
   "metadata": {},
   "source": [
    "Python naudoja numeraciją prasidedančią nuo nulio. Galima naudoti ir neigiamus indeksus."
   ]
  },
  {
   "cell_type": "code",
   "execution_count": 17,
   "metadata": {},
   "outputs": [
    {
     "name": "stdout",
     "output_type": "stream",
     "text": [
      "0.0 0.1 1.0 0.9\n"
     ]
    }
   ],
   "source": [
    "print(a[0], a[1], a[-1], a[-2])"
   ]
  },
  {
   "cell_type": "markdown",
   "metadata": {},
   "source": [
    "Galima manipuliuoti ir įvairiomis sekomis, pavyzdžiu a[1:5] (paskutinis indekas nera įskaičiuojamas)"
   ]
  },
  {
   "cell_type": "code",
   "execution_count": 18,
   "metadata": {},
   "outputs": [
    {
     "name": "stdout",
     "output_type": "stream",
     "text": [
      "[0.  0.1 0.2 0.3 0.4]\n",
      "[0.5 0.6]\n"
     ]
    }
   ],
   "source": [
    "print(a[:5])\n",
    "print(a[5:7])"
   ]
  },
  {
   "cell_type": "markdown",
   "metadata": {},
   "source": [
    "Įvairios kitos variacijos"
   ]
  },
  {
   "cell_type": "code",
   "execution_count": 21,
   "metadata": {},
   "outputs": [
    {
     "name": "stdout",
     "output_type": "stream",
     "text": [
      "[0.1 0.3 0.5 0.7]\n"
     ]
    }
   ],
   "source": [
    "print(a[1:8:2])\n",
    "#print(a[::-1])\n",
    "#print(a)\n",
    "#print(a>0.5)\n",
    "#print(a[a>0.5])"
   ]
  },
  {
   "cell_type": "markdown",
   "metadata": {},
   "source": [
    "## automatinis generavimas ir veiksmai su numpy array\n",
    "Atliekant visokius skaičiavimus dažnai tenka naudoti vienodai įvairiais automatiškai sugeneruotus duomenų masyvus. Tam galima naudoti įvairias numpy komandas"
   ]
  },
  {
   "cell_type": "code",
   "execution_count": 29,
   "metadata": {},
   "outputs": [
    {
     "name": "stdout",
     "output_type": "stream",
     "text": [
      "[0. 0. 0. 0. 0. 0. 0. 0. 0. 0. 0. 0. 0. 0. 0.]\n",
      "[1. 1. 1. 1. 1. 1. 1. 1. 1. 1. 1. 1. 1. 1. 1.]\n"
     ]
    }
   ],
   "source": [
    "n=15\n",
    "x0=0\n",
    "x1=10\n",
    "#print(np.linspace(x0,x1,n,endpoint=False ))\n",
    "#print(np.arange(2,n))\n",
    "print(np.zeros(n))\n",
    "print(np.ones(n))"
   ]
  },
  {
   "cell_type": "code",
   "execution_count": 24,
   "metadata": {},
   "outputs": [],
   "source": [
    "?np.linspace"
   ]
  },
  {
   "cell_type": "markdown",
   "metadata": {},
   "source": [
    "numpy array galima manipuliuoti kaip skaičius. Matematinės operacijos atliekamos su visais sekos nariais."
   ]
  },
  {
   "cell_type": "code",
   "execution_count": 34,
   "metadata": {},
   "outputs": [
    {
     "name": "stdout",
     "output_type": "stream",
     "text": [
      "[1 2 3 4 5]\n",
      "[1. 1. 1. 1. 1.]\n"
     ]
    }
   ],
   "source": [
    "a=np.arange(1,6)\n",
    "b=np.ones(5)\n",
    "print(a)\n",
    "print(b)"
   ]
  },
  {
   "cell_type": "code",
   "execution_count": 35,
   "metadata": {},
   "outputs": [
    {
     "name": "stdout",
     "output_type": "stream",
     "text": [
      "[ 1  4  9 16 25]\n",
      "[2. 2. 2. 2. 2.]\n",
      "[0. 1. 2. 3. 4.]\n"
     ]
    }
   ],
   "source": [
    "print(a**2)\n",
    "print(2*b)\n",
    "print(a-b)"
   ]
  },
  {
   "cell_type": "markdown",
   "metadata": {},
   "source": [
    "# Trečias skyrius\n",
    "## Grafikų braižymas\n",
    "Tam naudojama matplotlib biblioteka"
   ]
  },
  {
   "cell_type": "code",
   "execution_count": null,
   "metadata": {},
   "outputs": [],
   "source": [
    "import matplotlib.pyplot as plt"
   ]
  },
  {
   "cell_type": "code",
   "execution_count": 38,
   "metadata": {},
   "outputs": [
    {
     "name": "stderr",
     "output_type": "stream",
     "text": [
      "<ipython-input-38-9951e1c786fa>:2: RuntimeWarning: divide by zero encountered in true_divide\n",
      "  y=1/x\n"
     ]
    },
    {
     "data": {
      "image/png": "[encoded data removed]",
      "text/plain": [
       "<Figure size 432x288 with 1 Axes>"
      ]
     },
     "metadata": {
      "needs_background": "light"
     },
     "output_type": "display_data"
    }
   ],
   "source": [
    "x=np.linspace(0,1,100)\n",
    "y=1/x\n",
    "plt.plot(x,y)\n",
    "plt.show()"
   ]
  },
  {
   "cell_type": "markdown",
   "metadata": {},
   "source": [
    "Grafikus galima papildyti ir pagražinti įvairiomis papildomis funkcijomis. Gražus duomenų apipavidalinimas yra labai svarbus mokslo sklaidoje!"
   ]
  },
  {
   "cell_type": "code",
   "execution_count": 46,
   "metadata": {},
   "outputs": [
    {
     "data": {
      "image/png": "[encoded data removed]",
      "text/plain": [
       "<Figure size 864x576 with 1 Axes>"
      ]
     },
     "metadata": {
      "needs_background": "light"
     },
     "output_type": "display_data"
    }
   ],
   "source": [
    "import matplotlib\n",
    "font = {'family' : 'sans',\n",
    "        'weight' : 'bold',\n",
    "        'size'   : 14}\n",
    "matplotlib.rc('font', **font)\n",
    "\n",
    "\n",
    "x=np.linspace(-1,1,100)\n",
    "y=np.sin(2*np.pi*x)\n",
    "\n",
    "plt.figure(figsize=(12,8))\n",
    "\n",
    "plt.plot(x,y, \"r-.\", lw=\"3\", label=\"$y=\\sin(2\\pi x)$\")\n",
    "plt.plot(x,y*0, 'k')\n",
    "plt.plot(x,np.cos(2*np.pi*x), \"b--\", lw=\"3\", label=\"$y=\\cos(2\\pi x)$\")\n",
    "plt.fill_between(x,np.cos(2*np.pi*x),y)\n",
    "plt.xlabel('x')\n",
    "plt.ylabel('y')\n",
    "plt.xlim([-1,1.0])\n",
    "plt.ylim([-1.2,1.2])\n",
    "#ax=plt.gca()\n",
    "#ax.set_aspect('equal')\n",
    "plt.legend()\n",
    "plt.show()"
   ]
  },
  {
   "cell_type": "markdown",
   "metadata": {},
   "source": [
    "## Užduotis\n",
    "Nubrėžkite spindulio $r=3$ apskritimą. \n",
    "\n",
    "Jei apskritimas atrodo kaip elipsė, išbandykite šias komandas\n",
    "\n",
    "ax=plt.gca()\n",
    "\n",
    "ax.set_aspect('equal')"
   ]
  },
  {
   "cell_type": "code",
   "execution_count": 52,
   "metadata": {},
   "outputs": [
    {
     "data": {
      "image/png": "[encoded data removed]",
      "text/plain": [
       "<Figure size 432x288 with 1 Axes>"
      ]
     },
     "metadata": {
      "needs_background": "light"
     },
     "output_type": "display_data"
    }
   ],
   "source": [
    "x=np.linspace(-3,3,100)\n",
    "# x^2+y^2=r^2\n",
    "# y = sqrt(r^2-x^2)\n",
    "y=np.sqrt(3**2-x**2)\n",
    "plt.plot(x,y,\"b\")\n",
    "plt.plot(x,-y,\"b\")\n",
    "ax=plt.gca()\n",
    "ax.set_aspect('equal')\n",
    "plt.show()"
   ]
  },
  {
   "cell_type": "markdown",
   "metadata": {},
   "source": [
    "# Ketvirtas skyrius\n",
    "## **for** ir **if** komandos bei fukcijos\n",
    "\n",
    "Programavime dažnai naudojami ciklai bei loginės operacijos\n",
    "\n",
    "Skirtingus blokus python atskiria atitraukimu nuo krašto"
   ]
  },
  {
   "cell_type": "code",
   "execution_count": 55,
   "metadata": {},
   "outputs": [
    {
     "name": "stdout",
     "output_type": "stream",
     "text": [
      "12 yra lyginis skačius\n"
     ]
    }
   ],
   "source": [
    "x=12\n",
    "# \"x % 2\" yra modulio komanda, tai yra X % 2 nuoda dalybos is 2 liekaną\n",
    "if x % 2 == 0:\n",
    "    print(x,\"yra lyginis skačius\")\n",
    "elif x % 2 == 1:\n",
    "    print(x,\"yra nelyginis skačius\")\n",
    "else:\n",
    "    print(x,\"nėra sveikasis skačius\")\n",
    "    \n",
    "x=7"
   ]
  },
  {
   "cell_type": "markdown",
   "metadata": {},
   "source": [
    "Patogu sukurti funkciją, kuri atspausdintų atsakymą"
   ]
  },
  {
   "cell_type": "code",
   "execution_count": 56,
   "metadata": {},
   "outputs": [],
   "source": [
    "def arlyginis(x):\n",
    "    if x % 2 == 0:\n",
    "        print(x, \"yra lyginis skačius\")\n",
    "    elif x % 2 == 1:\n",
    "        print(x, \"yra nelyginis skačius\")\n",
    "    else:\n",
    "        print(x, \"nėra sveikasis skačius\")\n",
    "    \n",
    "    return x % 2"
   ]
  },
  {
   "cell_type": "code",
   "execution_count": 58,
   "metadata": {},
   "outputs": [
    {
     "name": "stdout",
     "output_type": "stream",
     "text": [
      "13 yra nelyginis skačius\n",
      "liekana yra  1\n"
     ]
    }
   ],
   "source": [
    "print(\"liekana yra \", arlyginis(13))"
   ]
  },
  {
   "cell_type": "markdown",
   "metadata": {},
   "source": [
    "for ciklo metu yra įvykdoma tos pačios komandos pakartotinai"
   ]
  },
  {
   "cell_type": "code",
   "execution_count": 66,
   "metadata": {},
   "outputs": [
    {
     "name": "stdout",
     "output_type": "stream",
     "text": [
      "0 yra lyginis skačius\n",
      "1 yra nelyginis skačius\n",
      "2 yra lyginis skačius\n",
      "3 yra nelyginis skačius\n",
      "4 yra lyginis skačius\n",
      "5 yra nelyginis skačius\n",
      "6 yra lyginis skačius\n",
      "7 yra nelyginis skačius\n",
      "8 yra lyginis skačius\n",
      "9 yra nelyginis skačius\n",
      "10 yra lyginis skačius\n",
      "11 yra nelyginis skačius\n",
      "12 yra lyginis skačius\n",
      "13 yra nelyginis skačius\n",
      "14 yra lyginis skačius\n"
     ]
    }
   ],
   "source": [
    "for x in np.arange(15):\n",
    "    liekana=arlyginis(x)"
   ]
  },
  {
   "cell_type": "markdown",
   "metadata": {},
   "source": [
    "be numpy array galima naudoti ir python list duomenų tipą."
   ]
  },
  {
   "cell_type": "code",
   "execution_count": 65,
   "metadata": {},
   "outputs": [
    {
     "name": "stdout",
     "output_type": "stream",
     "text": [
      "32\n",
      "1 N\n",
      "2 e\n",
      "3 b\n",
      "4 e\n",
      "5 p\n",
      "6 r\n",
      "7 i\n",
      "8 s\n",
      "9 i\n",
      "10 k\n",
      "11 i\n",
      "12 š\n",
      "13 k\n",
      "14 i\n",
      "15 a\n",
      "16 k\n",
      "17 o\n",
      "18 p\n",
      "19 u\n",
      "20 s\n",
      "21 t\n",
      "22 e\n",
      "23 l\n",
      "24 i\n",
      "25 a\n",
      "26 u\n",
      "27 d\n",
      "28 a\n",
      "29 v\n",
      "30 o\n",
      "31 m\n",
      "32 e\n"
     ]
    }
   ],
   "source": [
    "žodis=\"Nebeprisikiškiakopusteliaudavome\"\n",
    "print(len(žodis))\n",
    "i=1\n",
    "for raidė in žodis:\n",
    "    print(i,raidė)\n",
    "    i = i+1"
   ]
  },
  {
   "cell_type": "code",
   "execution_count": 64,
   "metadata": {},
   "outputs": [
    {
     "name": "stdout",
     "output_type": "stream",
     "text": [
      "Žiema\n",
      "žiema\n",
      "bėk\n",
      "iš\n",
      "kiemo\n"
     ]
    }
   ],
   "source": [
    "sakinys=[\"Žiema\", \"žiema\", \"bėk\", \"iš\", \"kiemo\"]\n",
    "for žodis in sakinys:\n",
    "    print(žodis)"
   ]
  },
  {
   "cell_type": "markdown",
   "metadata": {},
   "source": [
    "## Užduotis\n",
    "Suskaičiuokite sveikųjų skaičių nuo vieno iki šimto kvadratų sumą.\n",
    "\n",
    "Pabandykite panauditi for ciklą.\n",
    "\n",
    "Python for ciklai nėra greiti. Tą patį atsakymą galima gauti daug greičiau naudojant numpy array\n",
    "\n",
    "np.sum(np.arange(1,101)**2)"
   ]
  },
  {
   "cell_type": "code",
   "execution_count": 62,
   "metadata": {},
   "outputs": [
    {
     "name": "stdout",
     "output_type": "stream",
     "text": [
      "338350\n"
     ]
    }
   ],
   "source": [
    "sum=0\n",
    "for x in np.arange(101):\n",
    "    sum = sum + x**2\n",
    "print(sum)"
   ]
  },
  {
   "cell_type": "code",
   "execution_count": 63,
   "metadata": {},
   "outputs": [
    {
     "data": {
      "text/plain": [
       "338350"
      ]
     },
     "execution_count": 63,
     "metadata": {},
     "output_type": "execute_result"
    }
   ],
   "source": [
    "np.sum(np.arange(1,101)**2)"
   ]
  },
  {
   "cell_type": "code",
   "execution_count": null,
   "metadata": {},
   "outputs": [],
   "source": []
  }
 ],
 "metadata": {
  "kernelspec": {
   "display_name": "Python 3",
   "language": "python",
   "name": "python3"
  },
  "language_info": {
   "codemirror_mode": {
    "name": "ipython",
    "version": 3
   },
   "file_extension": ".py",
   "mimetype": "text/x-python",
   "name": "python",
   "nbconvert_exporter": "python",
   "pygments_lexer": "ipython3",
   "version": "3.9.1"
  }
 },
 "nbformat": 4,
 "nbformat_minor": 4
}
