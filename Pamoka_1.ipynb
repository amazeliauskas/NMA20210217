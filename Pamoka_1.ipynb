{
 "cells": [
  {
   "cell_type": "markdown",
   "metadata": {},
   "source": [
    "Sveiki! \n",
    "\n",
    "Šiandien pasimokysime modeliavimo pagrindų su python jupyter notebook aplinkoje.\n",
    "\n",
    "Kiekviename langelyje galime užrašyti ir įvyktdyti įvairias python komandas.\n",
    "\n",
    "    shift+enter = run cell and jump to the next (creating a new cell if there is no other new one)\n",
    "    ctrl+enter  = run cell-in place\n",
    "    alt+enter   = run cell and insert a new one below\n",
    "\n",
    "# Pirmas skyrius\n",
    "## Paprastos python komandos\n",
    "\n",
    "Pradėkime su paprasta spausdinimo funkcija."
   ]
  },
  {
   "cell_type": "code",
   "execution_count": null,
   "metadata": {},
   "outputs": [],
   "source": [
    "print(\"Sveikas pasaulį!\")"
   ]
  },
  {
   "cell_type": "markdown",
   "metadata": {},
   "source": [
    "Tekstą išskiriame kabutėmis. Galima naudoti viengubas '' ir dvigubas \"\" kabutes. Be kabučių simboliai yra interpretuojami kaip kintamųjų padavinimas."
   ]
  },
  {
   "cell_type": "code",
   "execution_count": null,
   "metadata": {},
   "outputs": [],
   "source": [
    "data=\"vasario 17 d.\"\n",
    "print(\"Šiandien yra\", data)\n",
    "print(\"Dabartiniai metai yra\",2021)"
   ]
  },
  {
   "cell_type": "markdown",
   "metadata": {},
   "source": [
    " Su Python galima atlikti įvairius matematinius veiksmus"
   ]
  },
  {
   "cell_type": "code",
   "execution_count": null,
   "metadata": {},
   "outputs": [],
   "source": [
    "2+2"
   ]
  },
  {
   "cell_type": "code",
   "execution_count": null,
   "metadata": {},
   "outputs": [],
   "source": [
    "2*5"
   ]
  },
  {
   "cell_type": "code",
   "execution_count": null,
   "metadata": {},
   "outputs": [],
   "source": [
    "5/2"
   ]
  },
  {
   "cell_type": "markdown",
   "metadata": {},
   "source": [
    "Kelimas laipsniu, pavyzdžiui, $3^3$ yra rašomas taip"
   ]
  },
  {
   "cell_type": "code",
   "execution_count": null,
   "metadata": {},
   "outputs": [],
   "source": [
    "3**3"
   ]
  },
  {
   "cell_type": "markdown",
   "metadata": {},
   "source": [
    "Didelius skaičius, pavyzdžiui, $6,3\\cdot 10^{23}$ taip"
   ]
  },
  {
   "cell_type": "code",
   "execution_count": null,
   "metadata": {},
   "outputs": [],
   "source": [
    "6.3e23"
   ]
  },
  {
   "cell_type": "markdown",
   "metadata": {},
   "source": [
    "Sudėtingesnes funkcijas galime gauti, jei įkelsime **numpy** biblioteką."
   ]
  },
  {
   "cell_type": "code",
   "execution_count": null,
   "metadata": {},
   "outputs": [],
   "source": [
    "import numpy as np"
   ]
  },
  {
   "cell_type": "code",
   "execution_count": null,
   "metadata": {},
   "outputs": [],
   "source": [
    "print(np.sin(np.pi/2), np.exp(1.0), np.log(10), np.sqrt(64), np.abs(-5))"
   ]
  },
  {
   "cell_type": "markdown",
   "metadata": {},
   "source": [
    "### Klausimas\n",
    "Kiek sekundžių trunka mikrometai?"
   ]
  },
  {
   "cell_type": "code",
   "execution_count": null,
   "metadata": {},
   "outputs": [],
   "source": []
  },
  {
   "cell_type": "markdown",
   "metadata": {},
   "source": [
    "# Antras skyrius\n",
    "## numpy array\n",
    "Dažnai tenka manipuliuoti ne pavienius skaičius, bet duomenų masyvus: vektorius, matricas. Tam patogu naudoti nupmy array duomenų tipą."
   ]
  },
  {
   "cell_type": "code",
   "execution_count": null,
   "metadata": {},
   "outputs": [],
   "source": [
    "a=np.array([0.0, 0.1, 0.2, 0.3, 0.4, 0.5, 0.6,0.7,0.8,0.9,1.0])\n",
    "print(a, a.shape, len(a))"
   ]
  },
  {
   "cell_type": "markdown",
   "metadata": {},
   "source": [
    "Python naudoja numeraciją prasidedančią nuo nulio. Galima naudoti ir neigiamus indeksus."
   ]
  },
  {
   "cell_type": "code",
   "execution_count": null,
   "metadata": {},
   "outputs": [],
   "source": [
    "print(a[0], a[1], a[-1], a[-2])"
   ]
  },
  {
   "cell_type": "markdown",
   "metadata": {},
   "source": [
    "Galima manipuliuoti ir įvairiomis sekomis, pavyzdžiu a[1:5] (paskutinis indekas nera įskaičiuojamas)"
   ]
  },
  {
   "cell_type": "code",
   "execution_count": null,
   "metadata": {},
   "outputs": [],
   "source": [
    "print(a[:5])\n",
    "print(a[5:7])"
   ]
  },
  {
   "cell_type": "markdown",
   "metadata": {},
   "source": [
    "Įvairios kitos variacijos"
   ]
  },
  {
   "cell_type": "code",
   "execution_count": null,
   "metadata": {},
   "outputs": [],
   "source": [
    "print(a[1:6:3])\n",
    "print(a[::-1])\n",
    "print(a)\n",
    "print(a>0.5)\n",
    "print(a[a>0.5])"
   ]
  },
  {
   "cell_type": "markdown",
   "metadata": {},
   "source": [
    "## automatinis generavimas ir veiksmai su numpy array\n",
    "Atliekant visokius skaičiavimus dažnai tenka naudoti vienodai įvairiais automatiškai sugeneruotus duomenų masyvus. Tam galima naudoti įvairias numpy komandas"
   ]
  },
  {
   "cell_type": "code",
   "execution_count": null,
   "metadata": {},
   "outputs": [],
   "source": [
    "n=15\n",
    "x0=0\n",
    "x1=200\n",
    "#print(np.linspace(x0,x1,n))\n",
    "#print(np.arange(n))\n",
    "print(np.zeros(n))\n",
    "print(np.ones(n))"
   ]
  },
  {
   "cell_type": "markdown",
   "metadata": {},
   "source": [
    "numpy array galima manipuliuoti kaip skaičius. Matematinės operacijos atliekamos su visais sekos nariais."
   ]
  },
  {
   "cell_type": "code",
   "execution_count": null,
   "metadata": {},
   "outputs": [],
   "source": [
    "a=np.arange(1,6)\n",
    "b=np.ones(5)\n",
    "print(a)\n",
    "print(b)"
   ]
  },
  {
   "cell_type": "code",
   "execution_count": null,
   "metadata": {},
   "outputs": [],
   "source": [
    "print(a**2)\n",
    "print(2*b)\n",
    "print(a-b)"
   ]
  },
  {
   "cell_type": "markdown",
   "metadata": {},
   "source": [
    "# Trečias skyrius\n",
    "## Grafikų braižymas\n",
    "Tam naudojama matplotlib biblioteka"
   ]
  },
  {
   "cell_type": "code",
   "execution_count": null,
   "metadata": {},
   "outputs": [],
   "source": [
    "import matplotlib.pyplot as plt"
   ]
  },
  {
   "cell_type": "code",
   "execution_count": null,
   "metadata": {},
   "outputs": [],
   "source": [
    "x=np.linspace(0,1,100)\n",
    "y=x**2\n",
    "plt.plot(x,y)\n",
    "plt.show()"
   ]
  },
  {
   "cell_type": "markdown",
   "metadata": {},
   "source": [
    "Grafikus galima papildyti ir pagražinti įvairiomis papildomis funkcijomis. Gražus duomenų apipavidalinimas yra labai svarbus mokslo sklaidoje!"
   ]
  },
  {
   "cell_type": "code",
   "execution_count": null,
   "metadata": {},
   "outputs": [],
   "source": [
    "import matplotlib\n",
    "font = {'family' : 'sans',\n",
    "        'weight' : 'bold',\n",
    "        'size'   : 14}\n",
    "matplotlib.rc('font', **font)\n",
    "\n",
    "\n",
    "x=np.linspace(0,1,100)\n",
    "y=np.sin(2*np.pi*x)\n",
    "\n",
    "plt.figure(figsize=(12,8))\n",
    "\n",
    "plt.plot(x,y, \"r-.\", lw=\"3\", label=\"$y=\\sin(2\\pi x)$\")\n",
    "plt.plot(x,y*0, 'k')\n",
    "plt.xlabel('x')\n",
    "plt.ylabel('y')\n",
    "plt.xlim([0,1])\n",
    "plt.ylim([-1.2,1.2])\n",
    "#ax=plt.gca()\n",
    "#ax.set_aspect('equal')\n",
    "plt.legend()\n",
    "plt.show()"
   ]
  },
  {
   "cell_type": "markdown",
   "metadata": {},
   "source": [
    "## Užduotis\n",
    "Nubrėžkite spindulio $r=3$ apskritimą. \n",
    "\n",
    "Jei apskritimas atrodo kaip elipsė, išbandykite šias komandas\n",
    "\n",
    "ax=plt.gca()\n",
    "\n",
    "ax.set_aspect('equal')"
   ]
  },
  {
   "cell_type": "code",
   "execution_count": null,
   "metadata": {},
   "outputs": [],
   "source": []
  },
  {
   "cell_type": "markdown",
   "metadata": {},
   "source": [
    "# Ketvirtas skyrius\n",
    "## **for** ir **if** komandos bei fukcijos\n",
    "\n",
    "Programavime dažnai naudojami ciklai bei loginės operacijos\n",
    "\n",
    "Skirtingus blokus python atskiria atitraukimu nuo krašto"
   ]
  },
  {
   "cell_type": "code",
   "execution_count": null,
   "metadata": {},
   "outputs": [],
   "source": [
    "x=5\n",
    "# \"x % 2\" yra modulio komanda, tai yra X % 2 nuoda dalybos is 2 liekaną\n",
    "if x % 2 == 0:\n",
    "    print(x,\"yra lyginis skačius\")\n",
    "elif x % 2 == 1:\n",
    "    print(x,\"yra nelyginis skačius\")\n",
    "else:\n",
    "    print(x,\"nėra sveikasis skačius\")"
   ]
  },
  {
   "cell_type": "markdown",
   "metadata": {},
   "source": [
    "Patogu sukurti funkciją, kuri atspausdintų atsakymą"
   ]
  },
  {
   "cell_type": "code",
   "execution_count": null,
   "metadata": {},
   "outputs": [],
   "source": [
    "def arlyginis(x):\n",
    "    if x % 2 == 0:\n",
    "        print(x, \"yra lyginis skačius\")\n",
    "    elif x % 2 == 1:\n",
    "        print(x, \"yra nelyginis skačius\")\n",
    "    else:\n",
    "        print(x, \"nėra sveikasis skačius\")\n",
    "    \n",
    "    return x % 2"
   ]
  },
  {
   "cell_type": "code",
   "execution_count": null,
   "metadata": {},
   "outputs": [],
   "source": [
    "print(\"liekana yra \", arlyginis(13.5))"
   ]
  },
  {
   "cell_type": "markdown",
   "metadata": {},
   "source": [
    "for ciklo metu yra įvykdoma tos pačios komandos pakartotinai"
   ]
  },
  {
   "cell_type": "code",
   "execution_count": null,
   "metadata": {},
   "outputs": [],
   "source": [
    "for x in np.arange(15):\n",
    "    liekana=arlyginis(x)"
   ]
  },
  {
   "cell_type": "markdown",
   "metadata": {},
   "source": [
    "be numpy array galima naudoti ir python list duomenų tipą."
   ]
  },
  {
   "cell_type": "code",
   "execution_count": null,
   "metadata": {},
   "outputs": [],
   "source": [
    "žodis=\"Nebeprisikiškiakopusteliaudavome\"\n",
    "print(len(žodis))\n",
    "i=1\n",
    "for raidė in žodis:\n",
    "    print(i,raidė)\n",
    "    i = i+1"
   ]
  },
  {
   "cell_type": "code",
   "execution_count": null,
   "metadata": {},
   "outputs": [],
   "source": [
    "sakinys=[\"Žiema\", \"žiema\", \"bėk\", \"iš\", \"kiemo\"]\n",
    "for žodis in sakinys:\n",
    "    print(žodis)"
   ]
  },
  {
   "cell_type": "markdown",
   "metadata": {},
   "source": [
    "## Užduotis\n",
    "Suskaičiuokite sveikųjų skaičių nuo vieno iki šimto kvadratų sumą.\n",
    "\n",
    "Pabandykite panauditi for ciklą.\n",
    "\n",
    "Python for ciklai nėra greiti. Tą patį atsakymą galima gauti daug greičiau naudojant numpy array\n",
    "\n",
    "np.sum(np.arange(1,101)**2)"
   ]
  },
  {
   "cell_type": "code",
   "execution_count": null,
   "metadata": {},
   "outputs": [],
   "source": []
  },
  {
   "cell_type": "code",
   "execution_count": null,
   "metadata": {},
   "outputs": [],
   "source": []
  },
  {
   "cell_type": "code",
   "execution_count": null,
   "metadata": {},
   "outputs": [],
   "source": []
  }
 ],
 "metadata": {
  "kernelspec": {
   "display_name": "Python 3",
   "language": "python",
   "name": "python3"
  },
  "language_info": {
   "codemirror_mode": {
    "name": "ipython",
    "version": 3
   },
   "file_extension": ".py",
   "mimetype": "text/x-python",
   "name": "python",
   "nbconvert_exporter": "python",
   "pygments_lexer": "ipython3",
   "version": "3.9.1"
  }
 },
 "nbformat": 4,
 "nbformat_minor": 4
}
