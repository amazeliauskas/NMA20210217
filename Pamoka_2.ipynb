{
 "cells": [
  {
   "cell_type": "code",
   "execution_count": null,
   "metadata": {},
   "outputs": [],
   "source": [
    "import numpy as np\n",
    "import matplotlib.pyplot as plt"
   ]
  },
  {
   "cell_type": "markdown",
   "metadata": {},
   "source": [
    "## 1. Greičio integravimas Euler ir RK4 metodais\n",
    "Pradiniu laiko momentu $t_0=0$ kūnas buvo koordinačių pradžios taške $x_0=0$. Jei jo greičio nuo laiko priklausomybė yra $v(t)= t^4$, raskite ir pavaizduokite atsumo priklausomybė nuo laiko iki laiko momento $t_1=1$."
   ]
  },
  {
   "cell_type": "markdown",
   "metadata": {},
   "source": [
    "Pirmiausia nubrėžkime greičio grafiką"
   ]
  },
  {
   "cell_type": "code",
   "execution_count": null,
   "metadata": {
    "scrolled": true
   },
   "outputs": [],
   "source": []
  },
  {
   "cell_type": "markdown",
   "metadata": {},
   "source": [
    "Suskaičiuokite atsutmą laiko momentu t=1 naudojantis Eulerio metodu (Ats.:$v=t^n$, $x=1/n$)\n",
    "$$x=x_0+v(t_0) dt$$\n",
    "Kiek taškų reikia vieno procento tikslumui? "
   ]
  },
  {
   "cell_type": "code",
   "execution_count": null,
   "metadata": {},
   "outputs": [],
   "source": []
  },
  {
   "cell_type": "markdown",
   "metadata": {},
   "source": [
    "Suskaičiuokite atsutmą laiko momentu t=1 naudojantis Runge Kutta metodu\n",
    "    $$v_1 = v(t_0,x_0) $$\n",
    "    $$v_2 = v(t_0+ \\frac{1}{2}dt,x_0+ \\frac{dt}{2}v_1)$$\n",
    "    $$v_3 = v(t_0+ \\frac{1}{2}dt,x_0+ \\frac{dt}{2}v_2)$$\n",
    "    $$v_4 = v(t_0+ dt,x_0+ dt v_3)$$\n",
    "\n",
    "$$x=x_0+(v_1+2v_2+2v_3+v_4) \\frac{dt}{6}$$\n",
    "Kiek taškų reikia vieno procento tikslumui? "
   ]
  },
  {
   "cell_type": "code",
   "execution_count": null,
   "metadata": {},
   "outputs": [],
   "source": []
  },
  {
   "cell_type": "markdown",
   "metadata": {},
   "source": [
    "## 2. Keplerio orbitos\n",
    "Išspręskite žemės judėjimo aplink Saulę judėjimo lygtį. Saulės masė daug didesnė nei Žemės, todėl galite laikyti, kad ji nejuda koordinačių pradžios taške. Tinkamai pasirinkite vienetus.\n",
    "\n",
    "\\begin{align}\n",
    "  \\frac{dv^x}{dt} &= - \\frac{x}{\\sqrt{x^2+y^2}} \\frac{GM}{r^2}\\\\\n",
    "  \\frac{dv^y}{dt} &= - \\frac{y}{\\sqrt{x^2+y^2}} \\frac{GM}{r^2}\\\\\n",
    "  \\frac{dx}{dt}   &= v^x\\\\\n",
    "  \\frac{dy}{dt}   &= v^y\n",
    ".\\end{align}\n",
    "\n",
    "- Išbandykite įvairias pradines sąlygas apskritiminei, eliptinei ir hiperbolinėms trajektorijoms.\n",
    "- Nubrėžkite orbitų grafikus.\n",
    "- Patikrinkite Eulerio ir RK4 metodų konvergavimą apskritiminei orbitai\n"
   ]
  },
  {
   "cell_type": "markdown",
   "metadata": {},
   "source": [
    "## 3. Trijų kūnų problema (sunkesnė)\n",
    "Išspręskite Žemės judėjimo aplink Saulę judėjimo lygtį, su aplink Saulę besisukančiu Jupiteriu. Laikykite, kad Jupiteris juda apskritimu aplink Saulę ir nekreipkite dėmesio į Žemės įtaką jo orbitai.\n",
    "\n",
    "Raskite chaotinio judėjimo pavyzdžių. Nubrėžkite orbitų pavyzdžių. Patikrinkite, kad orbitos yra skaitmeniškai stabilios (žingsniai pakankamai maži)"
   ]
  },
  {
   "cell_type": "code",
   "execution_count": null,
   "metadata": {},
   "outputs": [],
   "source": []
  },
  {
   "cell_type": "code",
   "execution_count": null,
   "metadata": {},
   "outputs": [],
   "source": []
  },
  {
   "cell_type": "code",
   "execution_count": null,
   "metadata": {},
   "outputs": [],
   "source": []
  },
  {
   "cell_type": "markdown",
   "metadata": {},
   "source": [
    "## 4. n-matės sferos tūris\n",
    "\n",
    "Raskitė n–matės vienetinės sferos tūrį ($n=2$ -- skritulio plots, $n=3$ sferos tūris, $ V_n = \\frac{\\pi^{n/2}}{(n/2)!} $)\n",
    "\n",
    "Pasinaudokite $r<1$ formule ir sumuokite tūrio elementus $[-1,1]^n$ kube.\n",
    "\n",
    "- Kiek taškų reikia padalinti kubą vienodais tūriais, kad pasiektumėte vieno procento tikslumą? \n",
    "- Kiek taškų reikia, jei taškus pasirenkat atsitiktinai? Pvz, su np.random.rand\n"
   ]
  },
  {
   "cell_type": "code",
   "execution_count": null,
   "metadata": {},
   "outputs": [],
   "source": []
  },
  {
   "cell_type": "code",
   "execution_count": null,
   "metadata": {},
   "outputs": [],
   "source": []
  },
  {
   "cell_type": "code",
   "execution_count": null,
   "metadata": {},
   "outputs": [],
   "source": []
  }
 ],
 "metadata": {
  "kernelspec": {
   "display_name": "Python 3",
   "language": "python",
   "name": "python3"
  },
  "language_info": {
   "codemirror_mode": {
    "name": "ipython",
    "version": 3
   },
   "file_extension": ".py",
   "mimetype": "text/x-python",
   "name": "python",
   "nbconvert_exporter": "python",
   "pygments_lexer": "ipython3",
   "version": "3.9.1"
  }
 },
 "nbformat": 4,
 "nbformat_minor": 4
}
