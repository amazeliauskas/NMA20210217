{
 "cells": [
  {
   "cell_type": "code",
   "execution_count": 1,
   "metadata": {},
   "outputs": [],
   "source": [
    "import numpy as np\n",
    "import matplotlib.pyplot as plt"
   ]
  },
  {
   "cell_type": "markdown",
   "metadata": {},
   "source": [
    "## 1. Greičio integravimas Euler ir RK4 metodais\n",
    "Pradiniu laiko momentu $t_0=0$ kūnas buvo koordinačių pradžios taške $x_0=0$. Jei jo greičio nuo laiko priklausomybė yra $v(t)= t^4$, raskite ir pavaizduokite atsumo priklausomybė nuo laiko iki laiko momento $t_1=1$."
   ]
  },
  {
   "cell_type": "markdown",
   "metadata": {},
   "source": [
    "Pirmiausia nubrėžkime greičio grafiką"
   ]
  },
  {
   "cell_type": "code",
   "execution_count": 8,
   "metadata": {
    "scrolled": true
   },
   "outputs": [
    {
     "data": {
      "image/png": "[encoded data removed]",
      "text/plain": [
       "<Figure size 432x288 with 1 Axes>"
      ]
     },
     "metadata": {
      "needs_background": "light"
     },
     "output_type": "display_data"
    },
    {
     "name": "stdout",
     "output_type": "stream",
     "text": [
      "[0.   0.01 0.02 0.03 0.04 0.05 0.06 0.07 0.08 0.09 0.1  0.11 0.12 0.13\n",
      " 0.14 0.15 0.16 0.17 0.18 0.19 0.2  0.21 0.22 0.23 0.24 0.25 0.26 0.27\n",
      " 0.28 0.29 0.3  0.31 0.32 0.33 0.34 0.35 0.36 0.37 0.38 0.39 0.4  0.41\n",
      " 0.42 0.43 0.44 0.45 0.46 0.47 0.48 0.49 0.5  0.51 0.52 0.53 0.54 0.55\n",
      " 0.56 0.57 0.58 0.59 0.6  0.61 0.62 0.63 0.64 0.65 0.66 0.67 0.68 0.69\n",
      " 0.7  0.71 0.72 0.73 0.74 0.75 0.76 0.77 0.78 0.79 0.8  0.81 0.82 0.83\n",
      " 0.84 0.85 0.86 0.87 0.88 0.89 0.9  0.91 0.92 0.93 0.94 0.95 0.96 0.97\n",
      " 0.98 0.99]\n"
     ]
    }
   ],
   "source": [
    "def v(t):\n",
    "    return t**4\n",
    "\n",
    "\n",
    "\n",
    "plt.plot(t, v(t))\n",
    "plt.show()\n",
    "print(t)"
   ]
  },
  {
   "cell_type": "markdown",
   "metadata": {},
   "source": [
    "Suskaičiuokite atsutmą laiko momentu t=1 naudojantis Eulerio metodu (Ats.:$v=t^n$, $x=1/(n+1)$)\n",
    "$$x=x_0+v(t_0) dt$$\n",
    "Kiek taškų reikia vieno procento tikslumui? "
   ]
  },
  {
   "cell_type": "code",
   "execution_count": 15,
   "metadata": {},
   "outputs": [
    {
     "name": "stdout",
     "output_type": "stream",
     "text": [
      "0.9751666650000002\n"
     ]
    }
   ],
   "source": [
    "t=np.linspace(0,1, 100, endpoint=False)\n",
    "dt= t[1]-t[0]\n",
    "#print(dt)\n",
    "\n",
    "x0=0\n",
    "\n",
    "for t0 in t:\n",
    "    x0 = x0 + v(t0)*dt\n",
    "\n",
    "ats=1/5\n",
    "print(x0/ats)"
   ]
  },
  {
   "cell_type": "markdown",
   "metadata": {},
   "source": [
    "Suskaičiuokite atsutmą laiko momentu t=1 naudojantis Runge Kutta metodu\n",
    "    $$v_1 = v(t_0,x_0) $$\n",
    "    $$v_2 = v(t_0+ \\frac{1}{2}dt,x_0+ \\frac{dt}{2}v_1)$$\n",
    "    $$v_3 = v(t_0+ \\frac{1}{2}dt,x_0+ \\frac{dt}{2}v_2)$$\n",
    "    $$v_4 = v(t_0+ dt,x_0+ dt v_3)$$\n",
    "\n",
    "$$x=x_0+(v_1+2v_2+2v_3+v_4) \\frac{dt}{6}$$\n",
    "Kiek taškų reikia vieno procento tikslumui? "
   ]
  },
  {
   "cell_type": "code",
   "execution_count": 19,
   "metadata": {},
   "outputs": [
    {
     "name": "stdout",
     "output_type": "stream",
     "text": [
      "1.0000000004166667\n"
     ]
    }
   ],
   "source": [
    "t=np.linspace(0,1, 100, endpoint=False)\n",
    "dt= t[1]-t[0]\n",
    "#print(dt)\n",
    "\n",
    "x0=0\n",
    "\n",
    "for t0 in t:\n",
    "    v1 = v(t0)\n",
    "    v2 = v(t0+dt/2)\n",
    "    v3=  v(t0+dt/2)\n",
    "    v4=  v(t0+dt)\n",
    "    x0 = x0 + (v1 +2*v2+2*v3+v4)*dt/6\n",
    "\n",
    "ats=1/5\n",
    "print(x0/ats)"
   ]
  },
  {
   "cell_type": "markdown",
   "metadata": {},
   "source": [
    "## 2. Keplerio orbitos\n",
    "Išspręskite žemės judėjimo aplink Saulę judėjimo lygtį. Saulės masė daug didesnė nei Žemės, todėl galite laikyti, kad ji nejuda koordinačių pradžios taške. Tinkamai pasirinkite vienetus.\n",
    "\n",
    "\\begin{align}\n",
    "  \\frac{dv^x}{dt} &= - \\frac{x}{\\sqrt{x^2+y^2}} \\frac{GM}{r^2}\\\\\n",
    "  \\frac{dv^y}{dt} &= - \\frac{y}{\\sqrt{x^2+y^2}} \\frac{GM}{r^2}\\\\\n",
    "  \\frac{dx}{dt}   &= v^x\\\\\n",
    "  \\frac{dy}{dt}   &= v^y\n",
    ".\\end{align}\n",
    "\n",
    "- Išbandykite įvairias pradines sąlygas apskritiminei, eliptinei ir hiperbolinėms trajektorijoms.\n",
    "- Nubrėžkite orbitų grafikus.\n",
    "- Patikrinkite Eulerio ir RK4 metodų konvergavimą apskritiminei orbitai\n"
   ]
  },
  {
   "cell_type": "markdown",
   "metadata": {},
   "source": [
    "## 3. Trijų kūnų problema (sunkesnė)\n",
    "Išspręskite Žemės judėjimo aplink Saulę judėjimo lygtį, su aplink Saulę besisukančiu Jupiteriu. Laikykite, kad Jupiteris juda apskritimu aplink Saulę ir nekreipkite dėmesio į Žemės įtaką jo orbitai.\n",
    "\n",
    "Raskite chaotinio judėjimo pavyzdžių. Nubrėžkite orbitų pavyzdžių. Patikrinkite, kad orbitos yra skaitmeniškai stabilios (žingsniai pakankamai maži)"
   ]
  },
  {
   "cell_type": "code",
   "execution_count": null,
   "metadata": {},
   "outputs": [],
   "source": []
  },
  {
   "cell_type": "code",
   "execution_count": null,
   "metadata": {},
   "outputs": [],
   "source": []
  },
  {
   "cell_type": "code",
   "execution_count": null,
   "metadata": {},
   "outputs": [],
   "source": []
  },
  {
   "cell_type": "markdown",
   "metadata": {},
   "source": [
    "## 4. n-matės sferos tūris\n",
    "\n",
    "Raskitė n–matės vienetinės sferos tūrį ($n=2$ -- skritulio plots, $n=3$ sferos tūris, $ V_n = \\frac{\\pi^{n/2}}{(n/2)!} $)\n",
    "\n",
    "Pasinaudokite $r<1$ formule ir sumuokite tūrio elementus $[-1,1]^n$ kube.\n",
    "\n",
    "- Kiek taškų reikia padalinti kubą vienodais tūriais, kad pasiektumėte vieno procento tikslumą? \n",
    "- Kiek taškų reikia, jei taškus pasirenkat atsitiktinai? Pvz, su np.random.rand\n"
   ]
  },
  {
   "cell_type": "code",
   "execution_count": null,
   "metadata": {},
   "outputs": [],
   "source": []
  },
  {
   "cell_type": "code",
   "execution_count": null,
   "metadata": {},
   "outputs": [],
   "source": []
  },
  {
   "cell_type": "code",
   "execution_count": null,
   "metadata": {},
   "outputs": [],
   "source": []
  }
 ],
 "metadata": {
  "kernelspec": {
   "display_name": "Python 3",
   "language": "python",
   "name": "python3"
  },
  "language_info": {
   "codemirror_mode": {
    "name": "ipython",
    "version": 3
   },
   "file_extension": ".py",
   "mimetype": "text/x-python",
   "name": "python",
   "nbconvert_exporter": "python",
   "pygments_lexer": "ipython3",
   "version": "3.9.1"
  }
 },
 "nbformat": 4,
 "nbformat_minor": 4
}
